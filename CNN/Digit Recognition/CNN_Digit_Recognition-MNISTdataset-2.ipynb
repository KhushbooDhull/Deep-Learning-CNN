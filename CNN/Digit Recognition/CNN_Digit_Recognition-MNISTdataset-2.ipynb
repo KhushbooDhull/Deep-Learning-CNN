{
 "cells": [
  {
   "cell_type": "code",
   "execution_count": 1,
   "id": "f6a9b7cb",
   "metadata": {},
   "outputs": [],
   "source": [
    "import cv2\n",
    "import pandas as pd\n",
    "import numpy as np\n",
    "import matplotlib.pyplot as plt"
   ]
  },
  {
   "cell_type": "code",
   "execution_count": 2,
   "id": "c7ea19bf",
   "metadata": {},
   "outputs": [],
   "source": [
    "from tensorflow.keras.datasets import mnist,fashion_mnist"
   ]
  },
  {
   "cell_type": "code",
   "execution_count": 3,
   "id": "c32ac180",
   "metadata": {},
   "outputs": [
    {
     "name": "stdout",
     "output_type": "stream",
     "text": [
      "(60000, 28, 28)\n",
      "(60000,)\n",
      "(10000, 28, 28)\n",
      "(10000,)\n"
     ]
    }
   ],
   "source": [
    "(x_train,y_train),(x_test,y_test)=mnist.load_data()\n",
    "print(x_train.shape) #60000 images with height and width as 28*28\n",
    "print(y_train.shape)\n",
    "print(x_test.shape)\n",
    "print(y_test.shape)"
   ]
  },
  {
   "cell_type": "code",
   "execution_count": 4,
   "id": "2bde2f06",
   "metadata": {},
   "outputs": [
    {
     "data": {
      "image/png": "[encoded data removed]",
      "text/plain": [
       "<Figure size 720x720 with 16 Axes>"
      ]
     },
     "metadata": {},
     "output_type": "display_data"
    }
   ],
   "source": [
    "plt.figure(figsize=(10,10))\n",
    "for i in range(16):\n",
    "    plt.subplot(4,4,i+1)\n",
    "    plt.xticks([]) #done to not show x axis value\n",
    "    plt.yticks([])\n",
    "    plt.imshow(x_train[i],'gray')\n",
    "    plt.title(y_train[i])\n",
    "plt.show()"
   ]
  },
  {
   "cell_type": "code",
   "execution_count": 5,
   "id": "e38df7b4",
   "metadata": {},
   "outputs": [
    {
     "name": "stdout",
     "output_type": "stream",
     "text": [
      "[5 0 4 1 9 2 1 3 1 4]\n"
     ]
    }
   ],
   "source": [
    "print(y_train[:10])"
   ]
  },
  {
   "cell_type": "code",
   "execution_count": 6,
   "id": "8f9c66c5",
   "metadata": {},
   "outputs": [
    {
     "name": "stdout",
     "output_type": "stream",
     "text": [
      "[0, 1, 2, 3, 4, 5, 6, 7, 8, 9]\n"
     ]
    }
   ],
   "source": [
    "print(list(set(y_train))) #Unique Labels"
   ]
  },
  {
   "cell_type": "code",
   "execution_count": 7,
   "id": "b5e89769",
   "metadata": {},
   "outputs": [
    {
     "name": "stdout",
     "output_type": "stream",
     "text": [
      "(28, 28)\n",
      "[[  0   0   0   0   0   0   0   0   0   0   0   0   0   0   0   0   0   0\n",
      "    0   0   0   0   0   0   0   0   0   0]\n",
      " [  0   0   0   0   0   0   0   0   0   0   0   0   0   0   0   0   0   0\n",
      "    0   0   0   0   0   0   0   0   0   0]\n",
      " [  0   0   0   0   0   0   0   0   0   0   0   0   0   0   0   0   0   0\n",
      "    0   0   0   0   0   0   0   0   0   0]\n",
      " [  0   0   0   0   0   0   0   0   0   0   0   0   0   0   0   0   0   0\n",
      "    0   0   0   0   0   0   0   0   0   0]\n",
      " [  0   0   0   0   0   0   0   0   0   0   0   0   0   0   0   0   0   0\n",
      "    0   0   0   0   0   0   0   0   0   0]\n",
      " [  0   0   0   0   0   0   0   0   0   0   0  38  43 105 255 253 253 253\n",
      "  253 253 174   6   0   0   0   0   0   0]\n",
      " [  0   0   0   0   0   0   0   0   0  43 139 224 226 252 253 252 252 252\n",
      "  252 252 252 158  14   0   0   0   0   0]\n",
      " [  0   0   0   0   0   0   0   0   0 178 252 252 252 252 253 252 252 252\n",
      "  252 252 252 252  59   0   0   0   0   0]\n",
      " [  0   0   0   0   0   0   0   0   0 109 252 252 230 132 133 132 132 189\n",
      "  252 252 252 252  59   0   0   0   0   0]\n",
      " [  0   0   0   0   0   0   0   0   0   4  29  29  24   0   0   0   0  14\n",
      "  226 252 252 172   7   0   0   0   0   0]\n",
      " [  0   0   0   0   0   0   0   0   0   0   0   0   0   0   0   0   0  85\n",
      "  243 252 252 144   0   0   0   0   0   0]\n",
      " [  0   0   0   0   0   0   0   0   0   0   0   0   0   0   0   0  88 189\n",
      "  252 252 252  14   0   0   0   0   0   0]\n",
      " [  0   0   0   0   0   0   0   0   0   0   0   0   0   0  91 212 247 252\n",
      "  252 252 204   9   0   0   0   0   0   0]\n",
      " [  0   0   0   0   0   0   0   0   0  32 125 193 193 193 253 252 252 252\n",
      "  238 102  28   0   0   0   0   0   0   0]\n",
      " [  0   0   0   0   0   0   0   0  45 222 252 252 252 252 253 252 252 252\n",
      "  177   0   0   0   0   0   0   0   0   0]\n",
      " [  0   0   0   0   0   0   0   0  45 223 253 253 253 253 255 253 253 253\n",
      "  253  74   0   0   0   0   0   0   0   0]\n",
      " [  0   0   0   0   0   0   0   0   0  31 123  52  44  44  44  44 143 252\n",
      "  252  74   0   0   0   0   0   0   0   0]\n",
      " [  0   0   0   0   0   0   0   0   0   0   0   0   0   0   0   0  15 252\n",
      "  252  74   0   0   0   0   0   0   0   0]\n",
      " [  0   0   0   0   0   0   0   0   0   0   0   0   0   0   0   0  86 252\n",
      "  252  74   0   0   0   0   0   0   0   0]\n",
      " [  0   0   0   0   0   0   5  75   9   0   0   0   0   0   0  98 242 252\n",
      "  252  74   0   0   0   0   0   0   0   0]\n",
      " [  0   0   0   0   0  61 183 252  29   0   0   0   0  18  92 239 252 252\n",
      "  243  65   0   0   0   0   0   0   0   0]\n",
      " [  0   0   0   0   0 208 252 252 147 134 134 134 134 203 253 252 252 188\n",
      "   83   0   0   0   0   0   0   0   0   0]\n",
      " [  0   0   0   0   0 208 252 252 252 252 252 252 252 252 253 230 153   8\n",
      "    0   0   0   0   0   0   0   0   0   0]\n",
      " [  0   0   0   0   0  49 157 252 252 252 252 252 217 207 146  45   0   0\n",
      "    0   0   0   0   0   0   0   0   0   0]\n",
      " [  0   0   0   0   0   0   7 103 235 252 172 103  24   0   0   0   0   0\n",
      "    0   0   0   0   0   0   0   0   0   0]\n",
      " [  0   0   0   0   0   0   0   0   0   0   0   0   0   0   0   0   0   0\n",
      "    0   0   0   0   0   0   0   0   0   0]\n",
      " [  0   0   0   0   0   0   0   0   0   0   0   0   0   0   0   0   0   0\n",
      "    0   0   0   0   0   0   0   0   0   0]\n",
      " [  0   0   0   0   0   0   0   0   0   0   0   0   0   0   0   0   0   0\n",
      "    0   0   0   0   0   0   0   0   0   0]]\n"
     ]
    }
   ],
   "source": [
    "print(x_train[7].shape)\n",
    "print(x_train[7])"
   ]
  },
  {
   "cell_type": "code",
   "execution_count": 8,
   "id": "32a3eabf",
   "metadata": {},
   "outputs": [
    {
     "name": "stdout",
     "output_type": "stream",
     "text": [
      "(6000, 28, 28)\n",
      "(6000,)\n",
      "(1000, 28, 28)\n",
      "(1000,)\n"
     ]
    }
   ],
   "source": [
    "x_train=x_train[:6000,:,:]\n",
    "x_test=x_test[:1000,:,:]\n",
    "y_train=y_train[:6000]\n",
    "y_test=y_test[:1000]\n",
    "print(x_train.shape) \n",
    "print(y_train.shape)\n",
    "print(x_test.shape)\n",
    "print(y_test.shape)"
   ]
  },
  {
   "cell_type": "markdown",
   "id": "b7d26abc",
   "metadata": {},
   "source": [
    "### Normalize"
   ]
  },
  {
   "cell_type": "code",
   "execution_count": 9,
   "id": "34f13349",
   "metadata": {},
   "outputs": [],
   "source": [
    "x_train=x_train/255\n",
    "x_test=x_test/255"
   ]
  },
  {
   "cell_type": "markdown",
   "id": "53e203c8",
   "metadata": {},
   "source": [
    "### Reshape"
   ]
  },
  {
   "cell_type": "code",
   "execution_count": 10,
   "id": "5f4979bf",
   "metadata": {},
   "outputs": [
    {
     "name": "stdout",
     "output_type": "stream",
     "text": [
      "(6000, 28, 28, 1)\n",
      "(6000,)\n",
      "(1000, 28, 28, 1)\n",
      "(1000,)\n"
     ]
    }
   ],
   "source": [
    "x_train=x_train.reshape(6000,28,28,1)\n",
    "x_test=x_test.reshape(1000,28,28,1)\n",
    "print(x_train.shape) \n",
    "print(y_train.shape)\n",
    "print(x_test.shape)\n",
    "print(y_test.shape)"
   ]
  },
  {
   "cell_type": "markdown",
   "id": "07d8a900",
   "metadata": {},
   "source": [
    "### Building CNN Architecture"
   ]
  },
  {
   "cell_type": "code",
   "execution_count": 11,
   "id": "e5da8b5e",
   "metadata": {},
   "outputs": [],
   "source": [
    "import os\n",
    "os.environ['TF_CPP_MIN_LOG_LEVEL'] = '2'"
   ]
  },
  {
   "cell_type": "code",
   "execution_count": 12,
   "id": "f89ed783",
   "metadata": {},
   "outputs": [],
   "source": [
    "from tensorflow.keras.models import Sequential\n",
    "from tensorflow.keras.layers import Conv2D,Dense,MaxPooling2D,AveragePooling2D,Flatten"
   ]
  },
  {
   "cell_type": "code",
   "execution_count": 13,
   "id": "717aa856",
   "metadata": {},
   "outputs": [],
   "source": [
    "m1=Sequential()\n",
    "\n",
    "m1.add(Conv2D(64,(3,3),activation='relu',input_shape=(28,28,1)))\n",
    "m1.add(MaxPooling2D(pool_size=(2,2)))\n",
    "\n",
    "m1.add(Conv2D(32,(3,3),activation='relu'))\n",
    "m1.add(MaxPooling2D(pool_size=(2,2)))\n",
    "\n",
    "m1.add(Flatten())\n",
    "m1.add(Dense(32,activation='relu'))\n",
    "m1.add(Dense(10,activation='softmax')) # we need 10 outputs for classification\n",
    "\n",
    "m1.compile(optimizer='adam',loss='sparse_categorical_crossentropy',\n",
    "          metrics=['accuracy'])"
   ]
  },
  {
   "cell_type": "code",
   "execution_count": 14,
   "id": "036f387f",
   "metadata": {},
   "outputs": [
    {
     "name": "stdout",
     "output_type": "stream",
     "text": [
      "Model: \"sequential\"\n",
      "_________________________________________________________________\n",
      "Layer (type)                 Output Shape              Param #   \n",
      "=================================================================\n",
      "conv2d (Conv2D)              (None, 26, 26, 64)        640       \n",
      "_________________________________________________________________\n",
      "max_pooling2d (MaxPooling2D) (None, 13, 13, 64)        0         \n",
      "_________________________________________________________________\n",
      "conv2d_1 (Conv2D)            (None, 11, 11, 32)        18464     \n",
      "_________________________________________________________________\n",
      "max_pooling2d_1 (MaxPooling2 (None, 5, 5, 32)          0         \n",
      "_________________________________________________________________\n",
      "flatten (Flatten)            (None, 800)               0         \n",
      "_________________________________________________________________\n",
      "dense (Dense)                (None, 32)                25632     \n",
      "_________________________________________________________________\n",
      "dense_1 (Dense)              (None, 10)                330       \n",
      "=================================================================\n",
      "Total params: 45,066\n",
      "Trainable params: 45,066\n",
      "Non-trainable params: 0\n",
      "_________________________________________________________________\n"
     ]
    }
   ],
   "source": [
    "m1.summary()"
   ]
  },
  {
   "cell_type": "code",
   "execution_count": 15,
   "id": "aac84531",
   "metadata": {},
   "outputs": [
    {
     "name": "stdout",
     "output_type": "stream",
     "text": [
      "Train on 6000 samples, validate on 1000 samples\n",
      "Epoch 1/15\n",
      "6000/6000 [==============================] - 34s 6ms/sample - loss: 0.7285 - accuracy: 0.7720 - val_loss: 0.2239 - val_accuracy: 0.9270\n",
      "Epoch 2/15\n",
      "6000/6000 [==============================] - 30s 5ms/sample - loss: 0.1716 - accuracy: 0.9487 - val_loss: 0.1402 - val_accuracy: 0.9530\n",
      "Epoch 3/15\n",
      "6000/6000 [==============================] - 30s 5ms/sample - loss: 0.1170 - accuracy: 0.9657 - val_loss: 0.1227 - val_accuracy: 0.9620\n",
      "Epoch 4/15\n",
      "6000/6000 [==============================] - 31s 5ms/sample - loss: 0.0891 - accuracy: 0.9732 - val_loss: 0.1029 - val_accuracy: 0.9710\n",
      "Epoch 5/15\n",
      "6000/6000 [==============================] - 31s 5ms/sample - loss: 0.0723 - accuracy: 0.9768 - val_loss: 0.0976 - val_accuracy: 0.9660\n",
      "Epoch 6/15\n",
      "6000/6000 [==============================] - 30s 5ms/sample - loss: 0.0596 - accuracy: 0.9810 - val_loss: 0.0919 - val_accuracy: 0.9680\n",
      "Epoch 7/15\n",
      "6000/6000 [==============================] - 31s 5ms/sample - loss: 0.0543 - accuracy: 0.9840 - val_loss: 0.0803 - val_accuracy: 0.9720\n",
      "Epoch 8/15\n",
      "6000/6000 [==============================] - 27s 5ms/sample - loss: 0.0442 - accuracy: 0.9863 - val_loss: 0.0722 - val_accuracy: 0.9750\n",
      "Epoch 9/15\n",
      "6000/6000 [==============================] - 23s 4ms/sample - loss: 0.0316 - accuracy: 0.9910 - val_loss: 0.0859 - val_accuracy: 0.9760\n",
      "Epoch 10/15\n",
      "6000/6000 [==============================] - 23s 4ms/sample - loss: 0.0322 - accuracy: 0.9898 - val_loss: 0.0760 - val_accuracy: 0.9740\n",
      "Epoch 11/15\n",
      "6000/6000 [==============================] - 23s 4ms/sample - loss: 0.0255 - accuracy: 0.9938 - val_loss: 0.0819 - val_accuracy: 0.9770\n",
      "Epoch 12/15\n",
      "6000/6000 [==============================] - 23s 4ms/sample - loss: 0.0163 - accuracy: 0.9963 - val_loss: 0.0736 - val_accuracy: 0.9800\n",
      "Epoch 13/15\n",
      "6000/6000 [==============================] - 23s 4ms/sample - loss: 0.0136 - accuracy: 0.9957 - val_loss: 0.0860 - val_accuracy: 0.9700\n",
      "Epoch 14/15\n",
      "6000/6000 [==============================] - 25s 4ms/sample - loss: 0.0119 - accuracy: 0.9965 - val_loss: 0.1233 - val_accuracy: 0.9600\n",
      "Epoch 15/15\n",
      "6000/6000 [==============================] - 23s 4ms/sample - loss: 0.0196 - accuracy: 0.9935 - val_loss: 0.1042 - val_accuracy: 0.9690\n"
     ]
    }
   ],
   "source": [
    "h1=m1.fit(x_train,y_train,validation_data=(x_test,y_test),epochs=15)"
   ]
  },
  {
   "cell_type": "code",
   "execution_count": 16,
   "id": "e9fca32d",
   "metadata": {},
   "outputs": [
    {
     "data": {
      "text/html": [
       "<div>\n",
       "<style scoped>\n",
       "    .dataframe tbody tr th:only-of-type {\n",
       "        vertical-align: middle;\n",
       "    }\n",
       "\n",
       "    .dataframe tbody tr th {\n",
       "        vertical-align: top;\n",
       "    }\n",
       "\n",
       "    .dataframe thead th {\n",
       "        text-align: right;\n",
       "    }\n",
       "</style>\n",
       "<table border=\"1\" class=\"dataframe\">\n",
       "  <thead>\n",
       "    <tr style=\"text-align: right;\">\n",
       "      <th></th>\n",
       "      <th>loss</th>\n",
       "      <th>accuracy</th>\n",
       "      <th>val_loss</th>\n",
       "      <th>val_accuracy</th>\n",
       "      <th>Epochs</th>\n",
       "    </tr>\n",
       "  </thead>\n",
       "  <tbody>\n",
       "    <tr>\n",
       "      <th>10</th>\n",
       "      <td>0.025464</td>\n",
       "      <td>0.993833</td>\n",
       "      <td>0.081908</td>\n",
       "      <td>0.977</td>\n",
       "      <td>10</td>\n",
       "    </tr>\n",
       "    <tr>\n",
       "      <th>11</th>\n",
       "      <td>0.016284</td>\n",
       "      <td>0.996333</td>\n",
       "      <td>0.073645</td>\n",
       "      <td>0.980</td>\n",
       "      <td>11</td>\n",
       "    </tr>\n",
       "    <tr>\n",
       "      <th>12</th>\n",
       "      <td>0.013637</td>\n",
       "      <td>0.995667</td>\n",
       "      <td>0.086030</td>\n",
       "      <td>0.970</td>\n",
       "      <td>12</td>\n",
       "    </tr>\n",
       "    <tr>\n",
       "      <th>13</th>\n",
       "      <td>0.011939</td>\n",
       "      <td>0.996500</td>\n",
       "      <td>0.123310</td>\n",
       "      <td>0.960</td>\n",
       "      <td>13</td>\n",
       "    </tr>\n",
       "    <tr>\n",
       "      <th>14</th>\n",
       "      <td>0.019553</td>\n",
       "      <td>0.993500</td>\n",
       "      <td>0.104192</td>\n",
       "      <td>0.969</td>\n",
       "      <td>14</td>\n",
       "    </tr>\n",
       "  </tbody>\n",
       "</table>\n",
       "</div>"
      ],
      "text/plain": [
       "        loss  accuracy  val_loss  val_accuracy  Epochs\n",
       "10  0.025464  0.993833  0.081908         0.977      10\n",
       "11  0.016284  0.996333  0.073645         0.980      11\n",
       "12  0.013637  0.995667  0.086030         0.970      12\n",
       "13  0.011939  0.996500  0.123310         0.960      13\n",
       "14  0.019553  0.993500  0.104192         0.969      14"
      ]
     },
     "execution_count": 16,
     "metadata": {},
     "output_type": "execute_result"
    }
   ],
   "source": [
    "r1=pd.DataFrame(h1.history)\n",
    "r1['Epochs']=h1.epoch\n",
    "r1.tail()"
   ]
  },
  {
   "cell_type": "code",
   "execution_count": 17,
   "id": "14ef018f",
   "metadata": {},
   "outputs": [
    {
     "data": {
      "image/png": "[encoded data removed]",
      "text/plain": [
       "<Figure size 432x288 with 1 Axes>"
      ]
     },
     "metadata": {
      "needs_background": "light"
     },
     "output_type": "display_data"
    }
   ],
   "source": [
    "plt.plot(r1['Epochs'],r1['loss'],label='Training Data')\n",
    "plt.plot(r1['Epochs'],r1['val_loss'],label='Testing Data')\n",
    "plt.title('Loss vs Epochs')\n",
    "plt.xlabel('Epochs- No. of iterations')\n",
    "plt.ylabel('Loss')\n",
    "plt.legend()\n",
    "plt.grid()\n",
    "plt.show()"
   ]
  },
  {
   "cell_type": "code",
   "execution_count": 18,
   "id": "97711572",
   "metadata": {},
   "outputs": [
    {
     "data": {
      "image/png": "[encoded data removed]",
      "text/plain": [
       "<Figure size 432x288 with 1 Axes>"
      ]
     },
     "metadata": {
      "needs_background": "light"
     },
     "output_type": "display_data"
    }
   ],
   "source": [
    "plt.plot(r1['Epochs'],r1['accuracy'],label='Training Data')\n",
    "plt.plot(r1['Epochs'],r1['val_accuracy'],label='Testing Data')\n",
    "plt.title('Accuracy vs Epochs')\n",
    "plt.xlabel('Epochs- No. of iterations')\n",
    "plt.ylabel('Accuracy')\n",
    "plt.legend()\n",
    "plt.grid()\n",
    "plt.show()"
   ]
  },
  {
   "cell_type": "code",
   "execution_count": 19,
   "id": "7e3665cf",
   "metadata": {},
   "outputs": [
    {
     "name": "stdout",
     "output_type": "stream",
     "text": [
      "(1000, 28, 28, 1)\n"
     ]
    }
   ],
   "source": [
    "print(x_test.shape)"
   ]
  },
  {
   "cell_type": "code",
   "execution_count": 20,
   "id": "3eb529b4",
   "metadata": {},
   "outputs": [
    {
     "name": "stdout",
     "output_type": "stream",
     "text": [
      "[[3.19483502e-11 8.95902513e-15 8.49264126e-08 ... 9.99998689e-01\n",
      "  1.33831219e-11 1.30157785e-09]\n",
      " [1.31537643e-08 6.13623319e-10 1.00000000e+00 ... 1.52868282e-15\n",
      "  1.65973386e-08 9.31995253e-20]\n",
      " [2.56524163e-05 9.99701679e-01 3.44422224e-05 ... 1.66949350e-04\n",
      "  5.23956487e-06 2.43441406e-07]\n",
      " ...\n",
      " [1.00000000e+00 7.94485370e-22 3.65491075e-11 ... 1.34036437e-19\n",
      "  1.64102482e-16 3.20691959e-14]\n",
      " [4.72233541e-09 1.38323665e-13 1.37367593e-07 ... 2.32848070e-08\n",
      "  9.99985695e-01 1.34373022e-05]\n",
      " [1.00399575e-07 2.56296928e-10 2.79952728e-09 ... 1.50259226e-07\n",
      "  3.79050857e-06 9.99975085e-01]]\n"
     ]
    }
   ],
   "source": [
    "ypred=m1.predict(x_test)\n",
    "print(ypred)"
   ]
  },
  {
   "cell_type": "code",
   "execution_count": 21,
   "id": "cb22b280",
   "metadata": {},
   "outputs": [
    {
     "name": "stdout",
     "output_type": "stream",
     "text": [
      "1.0000000195264347\n",
      "1.0000000777613685\n",
      "1.0000000348905131\n"
     ]
    }
   ],
   "source": [
    "print(sum(ypred[50]))\n",
    "print(sum(ypred[700]))\n",
    "print(sum(ypred[128])) # around 1"
   ]
  },
  {
   "cell_type": "code",
   "execution_count": 22,
   "id": "f1f60925",
   "metadata": {},
   "outputs": [
    {
     "name": "stdout",
     "output_type": "stream",
     "text": [
      "[4.4785398e-09 2.4265104e-05 1.3148777e-05 1.3673205e-03 1.7495617e-05\n",
      " 1.6423437e-06 1.0737861e-10 1.3420644e-08 2.1043143e-03 9.9647176e-01]\n"
     ]
    }
   ],
   "source": [
    "print(ypred[7])"
   ]
  },
  {
   "cell_type": "code",
   "execution_count": 23,
   "id": "9c3d3284",
   "metadata": {},
   "outputs": [
    {
     "name": "stdout",
     "output_type": "stream",
     "text": [
      "[7, 2, 1, 0, 4, 1, 4, 9, 5, 9, 0, 6, 9, 0, 1, 5, 9, 7, 3, 4, 9, 6, 6, 5, 4, 0, 7, 4, 0, 1, 3, 1, 3, 4, 7, 2, 7, 1, 2, 1, 1, 7, 4, 2, 3, 5, 1, 2, 4, 4, 6, 3, 5, 5, 6, 0, 4, 1, 9, 5, 7, 8, 5, 3, 7, 4, 6, 4, 3, 0, 7, 0, 2, 9, 1, 7, 3, 2, 9, 7, 7, 6, 2, 7, 8, 4, 7, 3, 6, 1, 3, 6, 9, 3, 1, 4, 1, 7, 6, 9, 6, 0, 5, 4, 9, 9, 2, 1, 9, 4, 8, 7, 3, 9, 7, 9, 4, 4, 9, 2, 5, 4, 7, 6, 7, 9, 0, 5, 8, 5, 6, 6, 5, 7, 8, 1, 0, 1, 6, 4, 6, 7, 3, 1, 7, 1, 8, 2, 0, 2, 9, 9, 5, 5, 1, 5, 6, 0, 3, 4, 4, 6, 5, 4, 6, 5, 4, 5, 1, 4, 4, 7, 2, 3, 2, 7, 1, 8, 1, 8, 1, 8, 5, 0, 8, 9, 2, 5, 0, 1, 1, 1, 0, 9, 0, 3, 1, 6, 4, 2, 3, 6, 1, 1, 1, 3, 9, 5, 2, 9, 4, 5, 9, 3, 9, 0, 3, 6, 5, 5, 7, 2, 2, 7, 1, 2, 8, 4, 1, 7, 5, 3, 8, 8, 7, 9, 2, 2, 4, 1, 5, 9, 8, 7, 2, 3, 0, 2, 4, 2, 4, 1, 9, 5, 7, 7, 2, 8, 2, 6, 8, 5, 7, 7, 9, 1, 0, 1, 8, 0, 3, 0, 1, 9, 9, 4, 1, 8, 2, 1, 2, 9, 7, 5, 9, 2, 6, 4, 1, 5, 8, 2, 9, 2, 0, 4, 0, 0, 2, 8, 4, 7, 1, 2, 4, 0, 2, 7, 4, 3, 3, 0, 0, 3, 1, 9, 6, 5, 2, 5, 8, 7, 9, 3, 0, 4, 2, 0, 7, 1, 1, 2, 1, 5, 3, 3, 9, 7, 8, 6, 5, 6, 1, 3, 8, 1, 0, 5, 1, 3, 1, 5, 5, 6, 1, 8, 5, 1, 7, 9, 4, 6, 2, 2, 5, 0, 6, 5, 6, 3, 7, 2, 0, 8, 8, 5, 4, 1, 1, 4, 0, 3, 3, 7, 6, 1, 6, 2, 1, 9, 2, 8, 6, 1, 9, 5, 2, 5, 4, 4, 2, 8, 3, 9, 2, 4, 5, 0, 3, 1, 7, 7, 5, 7, 9, 7, 1, 9, 2, 1, 9, 2, 9, 2, 0, 4, 9, 1, 4, 8, 1, 8, 4, 5, 9, 8, 8, 3, 7, 6, 0, 0, 3, 0, 2, 0, 6, 4, 9, 5, 3, 3, 2, 3, 9, 1, 2, 6, 8, 0, 5, 6, 6, 6, 3, 8, 8, 2, 7, 5, 8, 9, 6, 1, 8, 4, 1, 2, 5, 9, 1, 9, 7, 5, 4, 0, 8, 9, 9, 1, 0, 5, 2, 3, 7, 8, 9, 4, 0, 6, 3, 9, 5, 2, 1, 3, 1, 3, 6, 5, 7, 4, 2, 2, 6, 3, 2, 6, 5, 4, 8, 9, 7, 1, 3, 0, 3, 8, 3, 1, 9, 3, 4, 4, 6, 4, 2, 1, 8, 2, 5, 4, 8, 8, 4, 0, 0, 2, 3, 2, 7, 7, 0, 8, 7, 4, 4, 7, 9, 6, 9, 0, 9, 8, 0, 4, 6, 0, 6, 3, 5, 4, 8, 3, 3, 9, 3, 3, 3, 7, 8, 0, 8, 7, 1, 7, 0, 6, 5, 4, 3, 2, 0, 9, 6, 3, 8, 0, 9, 9, 6, 8, 6, 8, 5, 7, 8, 6, 0, 2, 4, 0, 2, 2, 3, 1, 9, 7, 5, 8, 0, 8, 4, 6, 2, 6, 7, 9, 3, 2, 9, 8, 2, 2, 9, 2, 7, 3, 5, 9, 1, 8, 0, 2, 0, 5, 2, 1, 3, 7, 6, 7, 1, 2, 5, 8, 0, 3, 7, 2, 4, 0, 9, 1, 8, 6, 7, 7, 4, 3, 4, 9, 1, 9, 5, 1, 7, 3, 9, 7, 6, 9, 1, 5, 7, 8, 3, 3, 6, 7, 2, 8, 5, 8, 5, 1, 1, 4, 4, 3, 1, 0, 7, 7, 0, 7, 9, 9, 4, 8, 5, 5, 4, 0, 8, 2, 7, 6, 8, 4, 5, 0, 4, 0, 6, 1, 7, 3, 2, 6, 7, 2, 6, 9, 3, 1, 4, 6, 2, 5, 9, 2, 0, 6, 2, 1, 7, 3, 4, 1, 0, 5, 4, 3, 1, 1, 7, 4, 9, 9, 9, 8, 4, 0, 2, 4, 5, 1, 1, 6, 4, 7, 1, 9, 4, 2, 4, 1, 5, 5, 3, 8, 3, 1, 4, 5, 6, 8, 9, 4, 1, 5, 3, 8, 0, 3, 2, 5, 1, 2, 8, 3, 4, 4, 0, 8, 8, 3, 3, 1, 2, 3, 5, 9, 6, 3, 2, 6, 1, 3, 6, 0, 7, 2, 1, 7, 1, 4, 2, 4, 2, 1, 7, 9, 6, 1, 1, 2, 4, 3, 1, 7, 7, 4, 7, 0, 7, 3, 1, 3, 1, 0, 7, 7, 0, 3, 5, 5, 2, 7, 6, 6, 9, 2, 8, 3, 5, 2, 2, 5, 6, 0, 8, 2, 9, 2, 8, 8, 8, 8, 7, 9, 9, 5, 0, 6, 6, 3, 2, 1, 3, 2, 2, 9, 3, 0, 0, 5, 7, 8, 1, 4, 4, 6, 0, 2, 9, 1, 4, 7, 4, 7, 3, 9, 8, 8, 4, 7, 1, 2, 1, 2, 2, 3, 2, 3, 2, 3, 9, 1, 7, 4, 0, 3, 5, 5, 8, 6, 5, 2, 6, 7, 6, 6, 3, 2, 7, 8, 1, 1, 2, 5, 6, 4, 9, 5, 2, 3, 0, 4, 7, 8, 9, 1, 1, 0, 9, 1, 4, 9, 5, 4, 0, 6, 2, 2, 3, 1, 5, 1, 2, 0, 3, 8, 1, 2, 6, 7, 1, 6, 2, 3, 9, 0, 1, 2, 2, 0, 8, 9]\n"
     ]
    }
   ],
   "source": [
    "ypred_m1=[np.argmax(i)for i in ypred]\n",
    "print(ypred_m1)"
   ]
  },
  {
   "cell_type": "code",
   "execution_count": 24,
   "id": "246a4b3c",
   "metadata": {},
   "outputs": [],
   "source": [
    "from sklearn.metrics import confusion_matrix,classification_report"
   ]
  },
  {
   "cell_type": "code",
   "execution_count": 25,
   "id": "e376a831",
   "metadata": {},
   "outputs": [
    {
     "name": "stdout",
     "output_type": "stream",
     "text": [
      "[[ 84   0   0   0   0   0   1   0   0   0]\n",
      " [  0 123   1   0   0   0   0   1   1   0]\n",
      " [  0   0 114   0   0   0   0   2   0   0]\n",
      " [  1   0   0 101   0   5   0   0   0   0]\n",
      " [  0   0   1   0 102   0   0   0   0   7]\n",
      " [  0   0   0   0   0  87   0   0   0   0]\n",
      " [  2   0   0   0   0   0  85   0   0   0]\n",
      " [  0   0   2   0   0   0   0  97   0   0]\n",
      " [  1   0   1   1   0   0   0   1  84   1]\n",
      " [  0   0   0   0   0   1   0   0   1  92]]\n",
      "              precision    recall  f1-score   support\n",
      "\n",
      "           0       0.95      0.99      0.97        85\n",
      "           1       1.00      0.98      0.99       126\n",
      "           2       0.96      0.98      0.97       116\n",
      "           3       0.99      0.94      0.97       107\n",
      "           4       1.00      0.93      0.96       110\n",
      "           5       0.94      1.00      0.97        87\n",
      "           6       0.99      0.98      0.98        87\n",
      "           7       0.96      0.98      0.97        99\n",
      "           8       0.98      0.94      0.96        89\n",
      "           9       0.92      0.98      0.95        94\n",
      "\n",
      "    accuracy                           0.97      1000\n",
      "   macro avg       0.97      0.97      0.97      1000\n",
      "weighted avg       0.97      0.97      0.97      1000\n",
      "\n"
     ]
    }
   ],
   "source": [
    "cm=confusion_matrix(y_test,ypred_m1)\n",
    "print(cm)\n",
    "print(classification_report(y_test,ypred_m1))"
   ]
  },
  {
   "cell_type": "markdown",
   "id": "f62fe2ba",
   "metadata": {},
   "source": [
    "### Predictions"
   ]
  },
  {
   "cell_type": "code",
   "execution_count": 26,
   "id": "dca8f88a",
   "metadata": {
    "scrolled": true
   },
   "outputs": [
    {
     "data": {
      "image/png": "[encoded data removed]",
      "text/plain": [
       "<Figure size 432x288 with 1 Axes>"
      ]
     },
     "metadata": {
      "needs_background": "light"
     },
     "output_type": "display_data"
    }
   ],
   "source": [
    "plt.imshow(x_test[200],'gray')\n",
    "plt.show()"
   ]
  },
  {
   "cell_type": "code",
   "execution_count": 28,
   "id": "12e61e69",
   "metadata": {
    "scrolled": true
   },
   "outputs": [
    {
     "data": {
      "text/plain": [
       "array([[1.9010623e-13, 8.0452841e-16, 1.1075564e-07, 9.9999499e-01,\n",
       "        7.9890334e-22, 5.9212628e-08, 5.7107764e-18, 1.3852451e-11,\n",
       "        4.8956636e-06, 7.9253295e-14]], dtype=float32)"
      ]
     },
     "execution_count": 28,
     "metadata": {},
     "output_type": "execute_result"
    }
   ],
   "source": [
    "m1.predict(x_test[[200]])"
   ]
  },
  {
   "cell_type": "code",
   "execution_count": 29,
   "id": "999f1037",
   "metadata": {},
   "outputs": [
    {
     "data": {
      "text/plain": [
       "array([[1.9010623e-13, 8.0452841e-16, 1.1075564e-07, 9.9999499e-01,\n",
       "        7.9890334e-22, 5.9212628e-08, 5.7107764e-18, 1.3852451e-11,\n",
       "        4.8956636e-06, 7.9253295e-14]], dtype=float32)"
      ]
     },
     "execution_count": 29,
     "metadata": {},
     "output_type": "execute_result"
    }
   ],
   "source": [
    "m1.predict(x_test[[200]])"
   ]
  },
  {
   "cell_type": "code",
   "execution_count": 30,
   "id": "102ce25b",
   "metadata": {},
   "outputs": [
    {
     "name": "stdout",
     "output_type": "stream",
     "text": [
      "(1000, 28, 28, 1)\n",
      "(28, 28, 1)\n"
     ]
    }
   ],
   "source": [
    "print(x_test.shape)\n",
    "print(x_test[200].shape)"
   ]
  },
  {
   "cell_type": "code",
   "execution_count": 31,
   "id": "1b5bba60",
   "metadata": {},
   "outputs": [
    {
     "data": {
      "text/plain": [
       "array([[1.9010623e-13, 8.0452841e-16, 1.1075564e-07, 9.9999499e-01,\n",
       "        7.9890334e-22, 5.9212628e-08, 5.7107764e-18, 1.3852451e-11,\n",
       "        4.8956636e-06, 7.9253295e-14]], dtype=float32)"
      ]
     },
     "execution_count": 31,
     "metadata": {},
     "output_type": "execute_result"
    }
   ],
   "source": [
    "res=m1.predict(x_test[[200]])\n",
    "res"
   ]
  },
  {
   "cell_type": "code",
   "execution_count": 32,
   "id": "c4e50d7f",
   "metadata": {},
   "outputs": [
    {
     "data": {
      "image/png": "[encoded data removed]",
      "text/plain": [
       "<Figure size 432x288 with 1 Axes>"
      ]
     },
     "metadata": {
      "needs_background": "light"
     },
     "output_type": "display_data"
    }
   ],
   "source": [
    "plt.imshow(x_test[200],'gray')\n",
    "plt.show()"
   ]
  },
  {
   "cell_type": "code",
   "execution_count": 33,
   "id": "03705252",
   "metadata": {},
   "outputs": [
    {
     "name": "stdout",
     "output_type": "stream",
     "text": [
      "3\n"
     ]
    }
   ],
   "source": [
    "res=m1.predict(x_test[[200]])\n",
    "res_predict=np.argmax(res)\n",
    "print(res_predict)"
   ]
  },
  {
   "cell_type": "code",
   "execution_count": 34,
   "id": "a443a1b6",
   "metadata": {},
   "outputs": [
    {
     "name": "stdout",
     "output_type": "stream",
     "text": [
      "(1000, 28, 28, 1)\n",
      "(28, 28, 1)\n",
      "(1, 28, 28, 1)\n"
     ]
    }
   ],
   "source": [
    "print(x_test.shape)\n",
    "print(x_test[200].shape)\n",
    "\n",
    "test_img=x_test[200].reshape(1,28,28,1)\n",
    "print(test_img.shape)"
   ]
  },
  {
   "cell_type": "markdown",
   "id": "420ee5ab",
   "metadata": {},
   "source": [
    "### Image Index Prediction"
   ]
  },
  {
   "cell_type": "code",
   "execution_count": 35,
   "id": "08166c30",
   "metadata": {},
   "outputs": [],
   "source": [
    "# img_index -> 0-999\n",
    "def test_img_pred(img_idx):\n",
    "    test_img=x_test[img_idx].reshape(1,28,28,1)\n",
    "    pred=m1.predict(test_img) #2D numpy array\n",
    "    res=np.argmax(pred[0])\n",
    "    \n",
    "    plt.subplot(1,2,1)\n",
    "    plt.imshow(x_test[img_idx],'gray')\n",
    "    plt.xticks([])\n",
    "    plt.yticks([])\n",
    "    plt.xlabel(f'Actual Val: {y_test[img_idx]}\\nPredicted Val {res}')\n",
    "    plt.title('Test Image')\n",
    "    \n",
    "    plt.subplot(1,2,2)\n",
    "    plt.bar(list(range(10)),pred[0],color='orange')\n",
    "    plt.xticks(np.arange(10))\n",
    "    plt.title('Prediction Probability')\n",
    "    plt.show()\n",
    "    "
   ]
  },
  {
   "cell_type": "code",
   "execution_count": 36,
   "id": "0794e736",
   "metadata": {},
   "outputs": [
    {
     "data": {
      "image/png": "[encoded data removed]",
      "text/plain": [
       "<Figure size 432x288 with 2 Axes>"
      ]
     },
     "metadata": {
      "needs_background": "light"
     },
     "output_type": "display_data"
    }
   ],
   "source": [
    "test_img_pred(200)"
   ]
  },
  {
   "cell_type": "code",
   "execution_count": 37,
   "id": "74d3c87a",
   "metadata": {},
   "outputs": [
    {
     "data": {
      "image/png": "[encoded data removed]",
      "text/plain": [
       "<Figure size 432x288 with 2 Axes>"
      ]
     },
     "metadata": {
      "needs_background": "light"
     },
     "output_type": "display_data"
    }
   ],
   "source": [
    "test_img_pred(447)"
   ]
  },
  {
   "cell_type": "code",
   "execution_count": null,
   "id": "0d5024a5",
   "metadata": {},
   "outputs": [],
   "source": []
  }
 ],
 "metadata": {
  "kernelspec": {
   "display_name": "Python 3 (ipykernel)",
   "language": "python",
   "name": "python3"
  },
  "language_info": {
   "codemirror_mode": {
    "name": "ipython",
    "version": 3
   },
   "file_extension": ".py",
   "mimetype": "text/x-python",
   "name": "python",
   "nbconvert_exporter": "python",
   "pygments_lexer": "ipython3",
   "version": "3.7.13"
  }
 },
 "nbformat": 4,
 "nbformat_minor": 5
}
